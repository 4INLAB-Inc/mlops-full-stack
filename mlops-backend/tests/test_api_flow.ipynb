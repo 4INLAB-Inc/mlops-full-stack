{
 "cells": [
  {
   "cell_type": "code",
   "execution_count": 83,
   "id": "ee78406d-f323-4fd3-ac4c-1a76303921aa",
   "metadata": {},
   "outputs": [],
   "source": [
    "import os\n",
    "import base64\n",
    "import requests\n",
    "import random"
   ]
  },
  {
   "cell_type": "code",
   "execution_count": 5,
   "id": "c1f476d3-c376-48ff-b2d4-5e4a8875a2cb",
   "metadata": {},
   "outputs": [
    {
     "ename": "IndentationError",
     "evalue": "unexpected indent (3258472051.py, line 5)",
     "output_type": "error",
     "traceback": [
      "\u001b[0;36m  File \u001b[0;32m\"/tmp/ipykernel_126/3258472051.py\"\u001b[0;36m, line \u001b[0;32m5\u001b[0m\n\u001b[0;31m    \"epochs\": 100\u001b[0m\n\u001b[0m    ^\u001b[0m\n\u001b[0;31mIndentationError\u001b[0m\u001b[0;31m:\u001b[0m unexpected indent\n"
     ]
    }
   ],
   "source": [
    "\n",
    "# API endpoint address for run full flow (학습 + 평가 + 배포포)\n",
    "API_URL = \"http://192.168.219.52:8686/api/run_flow/full_flow\"\n",
    "\n",
    "# Payload19pe\": \"auto\",\n",
    "    \"epochs\": 100\n",
    "}\n",
    "\n",
    "# Headers to specify the data type as JSON\n",
    "headers = {\n",
    "    \"Content-Type\": \"application/json\"\n",
    "}\n",
    "\n",
    "# Send POST request to the endpoint\n",
    "response = requests.post(API_URL, json=payload, headers=headers)\n",
    "\n",
    "# Check and print the result\n",
    "if response.status_code == 200:\n",
    "    print(\"API call successful!\")\n",
    "    print(\"Response:\", response.json())\n",
    "else:\n",
    "    print(f\"API call failed with status code: {response.status_code}\")\n",
    "    print(\"Response:\", response.text)\n"
   ]
  },
  {
   "cell_type": "code",
   "execution_count": 38,
   "id": "263fa2d0-65a3-4758-8878-ca96e645ac34",
   "metadata": {},
   "outputs": [
    {
     "name": "stdout",
     "output_type": "stream",
     "text": [
      "API call successful!\n",
      "Response: {'status': 'started', 'message': 'Run_flow is running in the background'}\n"
     ]
    }
   ],
   "source": [
    "\n",
    "# API endpoint address for run train flow (학습)\n",
    "API_URL = \"http://192.168.219.52:8686/api/run_flow/train_flow\"\n",
    "\n",
    "# Payload (data) required by the API for run train_flow\n",
    "# Optuna is used to optimize the param for AI models\n",
    "# if model_type=\"LSTM, GRU, BiLSTM, Conv1D-BiLSTM\"  -> Optuna will optimize the param of selected model\n",
    "# if model_type=\"auto\"  -> Optuna will automatically optimize the params of all models and select the best model\n",
    "payload = {\n",
    "    \"model_type\": \"GRU\",    \n",
    "    \"epochs\": 10\n",
    "}\n",
    "\n",
    "# Headers to specify the data type as JSON\n",
    "headers = {\n",
    "    \"Content-Type\": \"application/json\"\n",
    "}\n",
    "\n",
    "# Send POST request to the endpoint\n",
    "response = requests.post(API_URL, json=payload, headers=headers)\n",
    "\n",
    "# Check and print the result\n",
    "if response.status_code == 200:\n",
    "    print(\"API call successful!\")\n",
    "    print(\"Response:\", response.json())\n",
    "else:\n",
    "    print(f\"API call failed with status code: {response.status_code}\")\n",
    "    print(\"Response:\", response.text)"
   ]
  },
  {
   "cell_type": "code",
   "execution_count": 12,
   "id": "e998d8be-7027-4356-85fc-f07b57871a18",
   "metadata": {},
   "outputs": [
    {
     "name": "stdout",
     "output_type": "stream",
     "text": [
      "API call successful!\n",
      "Response: {'status': 'started', 'message': 'Run_flow is running in the background'}\n"
     ]
    }
   ],
   "source": [
    "\n",
    "# API endpoint address for run eval flow (평가)\n",
    "API_URL = \"http://192.168.219.52:8686/api/run_flow/eval_flow\"\n",
    "\n",
    "payload = {\n",
    "    \"model_type\": \"\",\n",
    "    \"epochs\": 5\n",
    "}\n",
    "\n",
    "# Make the POST request with the payload\n",
    "response = requests.post(API_URL, json=payload)\n",
    "\n",
    "# Check and print the result\n",
    "if response.status_code == 200:\n",
    "    print(\"API call successful!\")\n",
    "    print(\"Response:\", response.json())\n",
    "else:\n",
    "    print(f\"API call failed with status code: {response.status_code}\")\n",
    "    print(\"Response:\", response.text)"
   ]
  },
  {
   "cell_type": "code",
   "execution_count": 17,
   "id": "83a1b56c-98ae-46f2-bff0-22f050031315",
   "metadata": {},
   "outputs": [
    {
     "name": "stdout",
     "output_type": "stream",
     "text": [
      "API call successful!\n",
      "Response: {'status': 'started', 'message': 'Run_flow is running in the background'}\n"
     ]
    }
   ],
   "source": [
    "\n",
    "# API endpoint address for run data flow (data pipeline)\n",
    "API_URL = \"http://192.168.219.52:8686/api/run_flow/data_flow\"\n",
    "\n",
    "payload = {\n",
    "    \"model_type\": \"\",\n",
    "    \"epochs\": 5\n",
    "}\n",
    "\n",
    "# Make the POST request with the payload\n",
    "response = requests.post(API_URL, json=payload)\n",
    "\n",
    "# Check and print the result\n",
    "if response.status_code == 200:\n",
    "    print(\"API call successful!\")\n",
    "    print(\"Response:\", response.json())\n",
    "else:\n",
    "    print(f\"API call failed with status code: {response.status_code}\")\n",
    "    print(\"Response:\", response.text)"
   ]
  },
  {
   "cell_type": "code",
   "execution_count": 18,
   "id": "9e98b2e4-7bc9-4adf-a47d-43f2e0d94879",
   "metadata": {},
   "outputs": [
    {
     "name": "stdout",
     "output_type": "stream",
     "text": [
      "API call successful!\n",
      "Response: {'status': 'started', 'message': 'Run_flow is running in the background'}\n"
     ]
    }
   ],
   "source": [
    "# API endpoint address for run deploy flow (배포)\n",
    "API_URL = \"http://192.168.219.52:8686/api/run_flow/deploy_flow\"\n",
    "\n",
    "payload = {\n",
    "    \"model_type\": \"\",\n",
    "    \"epochs\": 5\n",
    "}\n",
    "\n",
    "# Make the POST request with the payload\n",
    "response = requests.post(API_URL, json=payload)\n",
    "\n",
    "# Check and print the result\n",
    "if response.status_code == 200:\n",
    "    print(\"API call successful!\")\n",
    "    print(\"Response:\", response.json())\n",
    "else:\n",
    "    print(f\"API call failed with status code: {response.status_code}\")\n",
    "    print(\"Response:\", response.text)"
   ]
  },
  {
   "cell_type": "code",
   "execution_count": 258,
   "id": "e150ea9a-fdda-4331-967c-b26557eec539",
   "metadata": {},
   "outputs": [
    {
     "name": "stdout",
     "output_type": "stream",
     "text": [
      "API call failed with status code: 422\n",
      "Response: {\"detail\":[{\"loc\":[\"body\",\"name\"],\"msg\":\"field required\",\"type\":\"value_error.missing\"},{\"loc\":[\"body\",\"description\"],\"msg\":\"field required\",\"type\":\"value_error.missing\"},{\"loc\":[\"body\",\"dataset\"],\"msg\":\"field required\",\"type\":\"value_error.missing\"},{\"loc\":[\"body\",\"model\"],\"msg\":\"field required\",\"type\":\"value_error.missing\"},{\"loc\":[\"body\",\"learningRate\"],\"msg\":\"field required\",\"type\":\"value_error.missing\"},{\"loc\":[\"body\",\"batchSize\"],\"msg\":\"field required\",\"type\":\"value_error.missing\"},{\"loc\":[\"body\",\"epochs\"],\"msg\":\"field required\",\"type\":\"value_error.missing\"}]}\n"
     ]
    }
   ],
   "source": [
    "# API endpoint address for run deploy flow (배포)\n",
    "API_URL = \"http://192.168.219.52:8686/api/create\"\n",
    "\n",
    "payload = {\n",
    "    \"name\": \"Timeseries Stock Prediction Training\",\n",
    "    \"description\": \"Train a model for stock prediction\",\n",
    "    \"dataset\": \"Stock_product_01\",\n",
    "    \"model\": \"LSTM\",\n",
    "    \"learningRate\": 0.001,\n",
    "    \"batchSize\": 32,\n",
    "    \"epochs\": 20\n",
    "}\n",
    "\n",
    "# Make the POST request with the payload\n",
    "response = requests.post(API_URL, json=payload)\n",
    "\n",
    "# Check and print the result\n",
    "if response.status_code == 200:\n",
    "    print(\"API call successful!\")\n",
    "    print(\"Response:\", response.json())\n",
    "else:\n",
    "    print(f\"API call failed with status code: {response.status_code}\")\n",
    "    print(\"Response:\", response.text)"
   ]
  },
  {
   "cell_type": "code",
   "execution_count": 12,
   "id": "1dc262e6",
   "metadata": {},
   "outputs": [
    {
     "name": "stdout",
     "output_type": "stream",
     "text": [
      "API call failed with status code: 404\n",
      "Response: {\"message\":\"No model loaded. Please set up a model with the /update_model endpoint first.\"}\n"
     ]
    }
   ],
   "source": [
    "\n",
    "# API endpoint address for test model after deploy\n",
    "API_URL = \"http://192.168.219.52:4242/predict_timeseries\"\n",
    "\n",
    "# Input data for test api\n",
    "input_test= [ \n",
    "        0.9553731473997033, 0.38911381923638555, 0.22703723166940448, \n",
    "        0.5661436997242244, 0.37795856939489314, 0.5587811252689093, \n",
    "        0.580056889772573, 0.007304623031855528, 0.6204412497908085, \n",
    "        0.8509335287075362, 0.685410140945885, 0.09784586826664143, \n",
    "        0.33823983799383484, 0.4004021675399967, 0.5637511745424482, \n",
    "        0.5090618427091982, 0.7760193531957557, 0.5514843081642373, \n",
    "        0.16647747468801988, 0.9326450611187295, 0.21211768009127974, \n",
    "        0.11643935023823782, 0.47359056848800773, 0.2973714070294379, \n",
    "        0.22736091099133415, 0.18139237847048828, 0.4842742972887477, \n",
    "        0.3176104791602834, 0.9176824923494071, 0.4688956983272786\n",
    "    ]\n",
    "\n",
    "\n",
    "# Send request POST\n",
    "response = requests.post(\n",
    "    API_URL,\n",
    "    json={\"input_data\": input_test,\n",
    "           \"prediction_step\": 7},\n",
    "    headers={\"Content-Type\": \"application/json\"}\n",
    ")\n",
    "\n",
    "# Print results\n",
    "if response.status_code == 200:\n",
    "    print(\"Prediction successful!\")\n",
    "    print(\"Response:\", response.json())\n",
    "else:\n",
    "    print(f\"API call failed with status code: {response.status_code}\")\n",
    "    print(\"Response:\", response.text)"
   ]
  },
  {
   "cell_type": "code",
   "execution_count": 17,
   "id": "8408c5b4-4f01-459d-bb29-63e781a4bbd3",
   "metadata": {},
   "outputs": [
    {
     "name": "stdout",
     "output_type": "stream",
     "text": [
      "Response: {'message': 'Service is ready and healthy.'}\n"
     ]
    }
   ],
   "source": [
    "# API endpoint address for run eval flow (평가)\n",
    "API_URL = \"http://192.168.219.52:4242/health_check\"\n",
    "response = requests.get(API_URL)\n",
    "print(\"Response:\", response.json())"
   ]
  },
  {
   "cell_type": "code",
   "execution_count": null,
   "id": "94ed27ba-c828-4198-82f0-d3e2041ee72a",
   "metadata": {},
   "outputs": [],
   "source": []
  },
  {
   "cell_type": "code",
   "execution_count": 248,
   "id": "7bbcd17b-d3b9-46c7-978c-d64e30d4c8c8",
   "metadata": {},
   "outputs": [
    {
     "name": "stdout",
     "output_type": "stream",
     "text": [
      "Deleted model version 1\n",
      "Deleted registered model MNIST Classification\n"
     ]
    }
   ],
   "source": [
    "import mlflow\n",
    "from mlflow.tracking import MlflowClient\n",
    "\n",
    "def delete_registered_model(model_name: str):\n",
    "    client = MlflowClient()\n",
    "\n",
    "    # Lấy tất cả các phiên bản của model\n",
    "    model_versions = client.search_model_versions(f\"name='{model_name}'\")\n",
    "\n",
    "    # Xóa tất cả các phiên bản của model\n",
    "    for version in model_versions:\n",
    "        try:\n",
    "            client.delete_model_version(model_name, version.version)\n",
    "            print(f\"Deleted model version {version.version}\")\n",
    "        except Exception as e:\n",
    "            print(f\"Error deleting model version {version.version}: {str(e)}\")\n",
    "\n",
    "    # Xóa model (nếu không còn phiên bản nào)\n",
    "    try:\n",
    "        client.delete_registered_model(model_name)\n",
    "        print(f\"Deleted registered model {model_name}\")\n",
    "    except Exception as e:\n",
    "        print(f\"Error deleting registered model {model_name}: {str(e)}\")\n",
    "\n",
    "# Ví dụ sử dụng\n",
    "model_name = \"MNIST Classification\"\n",
    "delete_registered_model(model_name)\n"
   ]
  },
  {
   "cell_type": "code",
   "execution_count": 26,
   "id": "0964c5ad-df67-4c11-bf52-e6360360e1c6",
   "metadata": {},
   "outputs": [
    {
     "name": "stdout",
     "output_type": "stream",
     "text": [
      "<Experiment: artifact_location='file:///storage/mlruns/7', creation_time=1739845860214, experiment_id='7', last_update_time=1739846499223, lifecycle_stage='deleted', name='Stock Prediction Evaluation', tags={}>\n"
     ]
    }
   ],
   "source": [
    "import mlflow\n",
    "from mlflow.tracking import MlflowClient\n",
    "\n",
    "# Khởi tạo MLflow Client\n",
    "client = MlflowClient()\n",
    "\n",
    "# Lấy danh sách tất cả các experiment\n",
    "experiments = client.search_experiments()\n",
    "\n",
    "# # Xóa tất cả các experiment (ngoại trừ experiment mặc định)\n",
    "# for experiment in experiments:\n",
    "#     if experiment.name != \"Default\":\n",
    "#         client.delete_experiment(experiment.experiment_id)\n",
    "#         print(f\"Deleted experiment: {experiment.name}\")\n",
    "print(experiment)"
   ]
  },
  {
   "cell_type": "code",
   "execution_count": 17,
   "id": "cade2531-3518-4ff8-ba5c-d3dd332f0d83",
   "metadata": {},
   "outputs": [
    {
     "name": "stdout",
     "output_type": "stream",
     "text": [
      "Experiment 'Stock Prediction Evaluation' found with ID: 7\n",
      "Experiment 'Stock Prediction Evaluation' restored successfully.\n",
      "Experiment 'Stock Prediction Evaluation' deleted permanently.\n"
     ]
    }
   ],
   "source": [
    "import mlflow\n",
    "from mlflow.tracking import MlflowClient\n",
    "\n",
    "# Khởi tạo MLflow Client\n",
    "client = MlflowClient()\n",
    "\n",
    "# Kiểm tra sự tồn tại của experiment bằng tên\n",
    "experiment_name = \"Stock Prediction Evaluation\"\n",
    "experiment = client.get_experiment_by_name(experiment_name)\n",
    "\n",
    "if experiment is None:\n",
    "    print(f\"Experiment '{experiment_name}' does not exist.\")\n",
    "else:\n",
    "    print(f\"Experiment '{experiment_name}' found with ID: {experiment.experiment_id}\")\n",
    "    \n",
    "    # Nếu experiment đã bị xóa tạm thời (soft delete), khôi phục lại\n",
    "    try:\n",
    "        client.restore_experiment(experiment.experiment_id)\n",
    "        print(f\"Experiment '{experiment_name}' restored successfully.\")\n",
    "    except Exception as e:\n",
    "        print(f\"Error restoring experiment: {str(e)}\")\n",
    "\n",
    "    # Xóa hoàn toàn experiment\n",
    "    try:\n",
    "        client.delete_experiment(experiment.experiment_id)\n",
    "        print(f\"Experiment '{experiment_name}' deleted permanently.\")\n",
    "    except Exception as e:\n",
    "        print(f\"Error deleting experiment: {str(e)}\")\n"
   ]
  },
  {
   "cell_type": "code",
   "execution_count": 24,
   "id": "eea9be0e-49ef-4794-bfe7-fbc0b51c9a45",
   "metadata": {},
   "outputs": [
    {
     "name": "stdout",
     "output_type": "stream",
     "text": [
      "New experiment created and set as active: Stock Prediction Training 01\n"
     ]
    }
   ],
   "source": [
    "import mlflow\n",
    "import datetime\n",
    "\n",
    "# Tạo tên experiment với ngày tháng để tránh trùng tên\n",
    "experiment_name = f\"Timeseries Stock Prediction Training\"\n",
    "experiment_id = mlflow.create_experiment(experiment_name)\n",
    "\n",
    "# Thiết lập experiment mới làm active experiment\n",
    "mlflow.set_experiment(experiment_name)\n",
    "\n",
    "print(f\"New experiment created and set as active: {experiment_name}\")"
   ]
  },
  {
   "cell_type": "code",
   "execution_count": 60,
   "id": "e5762276-998c-4c3e-8681-8e585fc67130",
   "metadata": {},
   "outputs": [],
   "source": [
    "from mlflow.tracking import MlflowClient\n",
    "from typing import List, Dict, Any\n",
    "from datetime import datetime\n",
    "import pytz\n",
    "\n",
    "# Lấy tất cả các runs trong một experiment\n",
    "def get_runs_for_experiment(experiment_id: str) -> List[Dict[str, Any]]:\n",
    "    # Khởi tạo client MLflow\n",
    "    client = MlflowClient()\n",
    "\n",
    "    # Lấy tất cả các runs của experiment\n",
    "    runs = client.search_runs(experiment_ids=[experiment_id])\n",
    "\n",
    "    run_list = []\n",
    "    for run in runs:\n",
    "        # Lấy metrics từ run\n",
    "        metrics = {}\n",
    "        # Lấy danh sách các metric trong run\n",
    "        metric_keys = run.data.metrics.keys()\n",
    "        \n",
    "        # Duyệt qua từng metric_key và lấy lịch sử metrics\n",
    "        for metric_key in metric_keys:\n",
    "            metric_history = client.get_metric_history(run_id=run.info.run_id, key=metric_key)\n",
    "            # Lưu các giá trị vào dictionary metrics\n",
    "            metrics[metric_key] = [metric.value for metric in metric_history]\n",
    "        \n",
    "        # Các thông tin cần thiết từ run\n",
    "        run_info = {\n",
    "            \"id\": run.info.run_id,  # Run ID\n",
    "            \"run_id\": run.info.run_id,  # Run ID\n",
    "            \"run_name\": run.data.tags.get('mlflow.runName', 'Unknown Run Name'),\n",
    "            \"status\": run.info.status,  # Trạng thái của run\n",
    "            \"dataset\": run.data.params.get('dataset', 'Unknown Dataset'),  # Dataset nếu có\n",
    "            \"model\": run.data.params.get('model', 'Unknown Model'),  # Model nếu có\n",
    "            \"metrics\": metrics,  # Metrics đã lấy từ lịch sử metrics\n",
    "            \"updatedAt\": str(datetime.utcfromtimestamp(run.info.end_time / 1000).date()) if run.info.end_time else \"Unknown Date\",\n",
    "            \"description\": run.data.tags.get('description', 'No Description')  # Mô tả run\n",
    "        }\n",
    "\n",
    "        run_list.append(run_info)\n",
    "\n",
    "    return run_list\n",
    "get_runs_for_experiment(15)"
   ]
  },
  {
   "cell_type": "code",
   "execution_count": 79,
   "id": "5b906354-8c72-4220-a825-65ed8abe3c0d",
   "metadata": {},
   "outputs": [
    {
     "data": {
      "text/plain": [
       "['BiLSTM', 'GRU']"
      ]
     },
     "execution_count": 79,
     "metadata": {},
     "output_type": "execute_result"
    }
   ],
   "source": [
    "import mlflow\n",
    "import datetime\n",
    "client = MlflowClient()\n",
    "# Lấy danh sách các registered models\n",
    "registered_models = client.search_registered_models()\n",
    "\n",
    "# Lấy tên các model\n",
    "model_names = [model.name for model in registered_models]\n",
    "model_names"
   ]
  },
  {
   "cell_type": "code",
   "execution_count": 67,
   "id": "4ee90b24-4dca-4db3-8e09-9e8892095549",
   "metadata": {},
   "outputs": [
    {
     "data": {
      "text/plain": [
       "[{'id': 15,\n",
       "  'run_id': '274ae762e1c049d282100ab0b9f7a916',\n",
       "  'run_name': 'stock_prediction_BiLSTM_ver001',\n",
       "  'dataset': 'Stock_product_01',\n",
       "  'model': 'BiLSTM',\n",
       "  'status': 'FINISHED',\n",
       "  'accuracy': 0.0,\n",
       "  'f1Score': 0,\n",
       "  'loss': 0.0,\n",
       "  'runtime': '0h 0m 15s',\n",
       "  'created': '2025-02-18 12:15',\n",
       "  'hyperparameters': {'learningRate': 0.001,\n",
       "   'batchSize': '64',\n",
       "   'epochs': '10'},\n",
       "  'metrics': {'trainAcc': [],\n",
       "   'valAcc': [],\n",
       "   'trainLoss': [0.007431600708514452,\n",
       "    0.003607230493798852,\n",
       "    0.003582622390240431,\n",
       "    0.005149561911821365,\n",
       "    0.0037661248352378607,\n",
       "    0.003773577744141221,\n",
       "    0.07225552201271057,\n",
       "    0.003390626749023795,\n",
       "    0.003615554189309478,\n",
       "    0.003202858380973339],\n",
       "   'valLoss': [0.0008481161785311997,\n",
       "    0.0008899816893972456,\n",
       "    0.019219214096665382,\n",
       "    0.007958509959280491,\n",
       "    0.0022496965248137712,\n",
       "    0.0006510949460789561,\n",
       "    0.0006938028964214027,\n",
       "    0.0006249442812986672,\n",
       "    0.0005315307644195855,\n",
       "    0.000536090403329581]},\n",
       "  'updatedAt': '2025-02-18',\n",
       "  'description': 'No Description'}]"
      ]
     },
     "execution_count": 67,
     "metadata": {},
     "output_type": "execute_result"
    }
   ],
   "source": [
    "[run for run in run_info if run[\"run_id\"] == \"274ae762e1c049d282100ab0b9f7a916\"]"
   ]
  },
  {
   "cell_type": "code",
   "execution_count": 146,
   "id": "cb5fb041-1da5-4047-b211-6502733444b9",
   "metadata": {},
   "outputs": [
    {
     "name": "stdout",
     "output_type": "stream",
     "text": [
      "No flow is currently running.\n"
     ]
    },
    {
     "data": {
      "text/plain": [
       "False"
      ]
     },
     "execution_count": 146,
     "metadata": {},
     "output_type": "execute_result"
    }
   ],
   "source": [
    "from prefect.client.orchestration import get_client\n",
    "from prefect.client.schemas.filters import FlowFilter, FlowFilterId, FlowRunFilter, FlowRunFilterState\n",
    "\n",
    "import pandas as pd\n",
    "from datetime import datetime\n",
    "import pytz\n",
    "\n",
    "# Đảm bảo rằng check_if_flow_running là hàm bất đồng bộ\n",
    "async def check_if_flow_running():\n",
    "    # Lấy client Prefect\n",
    "    async with get_client() as client:\n",
    "        flow_run_filter_1 = FlowRunFilter(state=FlowRunFilterState(type={\"any_\": [\"RUNNING\"]}))\n",
    "        flow_runs = await client.read_flow_runs(flow_run_filter=flow_run_filter_1)\n",
    "    # Kiểm tra xem có flow nào đang chạy không\n",
    "    if flow_runs:\n",
    "        print(\"A flow is currently running!\")\n",
    "        return True\n",
    "    else:\n",
    "        print(\"No flow is currently running.\")\n",
    "        return False  # Trả về False nếu không có flow nào đang chạy\n",
    "await check_if_flow_running()"
   ]
  },
  {
   "cell_type": "code",
   "execution_count": 179,
   "id": "ef56ea9c-864f-426a-b57a-3be3cb094ea8",
   "metadata": {},
   "outputs": [
    {
     "data": {
      "text/plain": [
       "[{'id': 'LSTM',\n",
       "  'name': 'LSTM',\n",
       "  'description': 'Version 3 of LSTM model based time-series stock prediction. Trained with dataset: DefaultDataset, epochs: 10, learning rate: 0.001.',\n",
       "  'framework': 'TensorFlow',\n",
       "  'version': '3.0',\n",
       "  'previousVersion': '2.0',\n",
       "  'status': 'READY',\n",
       "  'accuracy': -5871.0,\n",
       "  'previousAccuracy': -5871.0,\n",
       "  'trainTime': 'Unknown',\n",
       "  'dataset': {'name': 'Stock_product_01',\n",
       "   'size': 'Unknown',\n",
       "   'split': 'Unknown',\n",
       "   'format': 'Unknown'},\n",
       "  'createdAt': '2025-02-20',\n",
       "  'updatedAt': '2025-02-20',\n",
       "  'deployedAt': 'Unknown',\n",
       "  'author': '4INLAB',\n",
       "  'task': 'Stock Prediction',\n",
       "  'thumbnail': '/model-thumbnails/default.png',\n",
       "  'servingStatus': {'isDeployed': False,\n",
       "   'health': 'healthy',\n",
       "   'requirements': {'cpu': 'fulfilled',\n",
       "    'memory': 'fulfilled',\n",
       "    'gpu': 'warning'},\n",
       "   'latency': '45ms',\n",
       "   'throughput': '120 requests/sec',\n",
       "   'uptime': '99.9%'},\n",
       "  'metrics': {'accuracy': -5871.0,\n",
       "   'precision': 0.0,\n",
       "   'recall': 0.0,\n",
       "   'f1Score': 0.0,\n",
       "   'auc': 0.0,\n",
       "   'latency': 45,\n",
       "   'throughput': 120},\n",
       "  'previousMetrics': {'accuracy': 0.0,\n",
       "   'precision': 0.0,\n",
       "   'recall': 0.0,\n",
       "   'f1Score': 0.0,\n",
       "   'auc': 0.0,\n",
       "   'latency': 50,\n",
       "   'throughput': 100},\n",
       "  'versions': [{'version': '1.0',\n",
       "    'status': 'READY',\n",
       "    'createdAt': 'Unknown',\n",
       "    'metrics': {'accuracy': 0.0,\n",
       "     'precision': 0.0,\n",
       "     'recall': 0.0,\n",
       "     'f1Score': 0.0,\n",
       "     'auc': 0.0,\n",
       "     'latency': 45,\n",
       "     'throughput': 120},\n",
       "    'trainingHistory': [{'epoch': 1,\n",
       "      'trainAccuracy': 0.85,\n",
       "      'trainLoss': 0.42,\n",
       "      'valAccuracy': 0.84,\n",
       "      'valLoss': 0.43},\n",
       "     {'epoch': 2,\n",
       "      'trainAccuracy': 0.89,\n",
       "      'trainLoss': 0.35,\n",
       "      'valAccuracy': 0.88,\n",
       "      'valLoss': 0.36}]},\n",
       "   {'version': '3.0',\n",
       "    'status': 'READY',\n",
       "    'createdAt': '2025-02-20',\n",
       "    'metrics': {'accuracy': -5871.0,\n",
       "     'precision': 0.0,\n",
       "     'recall': 0.0,\n",
       "     'f1Score': 0.0,\n",
       "     'auc': 0.0,\n",
       "     'latency': 45,\n",
       "     'throughput': 120},\n",
       "    'trainingHistory': [{'epoch': 1,\n",
       "      'trainAccuracy': 0.85,\n",
       "      'trainLoss': 0.42,\n",
       "      'valAccuracy': 0.84,\n",
       "      'valLoss': 0.43},\n",
       "     {'epoch': 2,\n",
       "      'trainAccuracy': 0.89,\n",
       "      'trainLoss': 0.35,\n",
       "      'valAccuracy': 0.88,\n",
       "      'valLoss': 0.36}]}]}]"
      ]
     },
     "execution_count": 179,
     "metadata": {},
     "output_type": "execute_result"
    }
   ],
   "source": [
    "from mlflow.tracking import MlflowClient\n",
    "from pydantic import BaseModel\n",
    "from typing import List, Dict\n",
    "import json\n",
    "\n",
    "def get_model_details(model_id: str) -> List[Dict[str, Any]]:\n",
    "    \"\"\"\n",
    "    Fetches detailed information about a registered model from MLflow based on its model_id.\n",
    "    Returns the model details as a list of dictionaries.\n",
    "    \"\"\"\n",
    "    client = MlflowClient()\n",
    "    models = []\n",
    "\n",
    "    # Search for the registered model by its name (model_id in this case)\n",
    "    filter_string = f\"name='{model_id}'\"\n",
    "    client.search_registered_models(filter_string=filter_string)\n",
    "\n",
    "    if not registered_models:\n",
    "        raise ValueError(f\"Model with id '{model_id}' not found in MLflow\")\n",
    "\n",
    "    model = registered_models[0]  # Get the first registered model\n",
    "\n",
    "    # Get the latest version of the model\n",
    "    latest_version = model.latest_versions[-1]\n",
    "\n",
    "    # Create model details as a dictionary\n",
    "    model_info = {\n",
    "        \"id\": model_id,\n",
    "        \"name\": model.name,\n",
    "        \"description\": latest_version.description if latest_version.description else \"No Description\",\n",
    "        \"framework\": latest_version.tags.get('framework', 'Unknown'),\n",
    "        \"version\": latest_version.version+\".0\",\n",
    "        \"previousVersion\": str(int(latest_version.version)-1)+\".0\",\n",
    "        \"status\": latest_version.status,\n",
    "        \"accuracy\": float(latest_version.tags.get('accuracy', 0.0)) if latest_version.tags.get('accuracy') else 0.0,\n",
    "        \"previousAccuracy\": float(latest_version.tags.get('accuracy', 0.0)) if latest_version.tags.get('accuracy') else 0.0,\n",
    "        \"trainTime\": latest_version.tags.get(\"train_time\", \"Unknown\"),\n",
    "        \"dataset\": {\n",
    "            \"name\": latest_version.tags.get(\"dataset\", \"Unknown\"),\n",
    "            \"size\": latest_version.tags.get(\"dataset_size\", \"Unknown\"),\n",
    "            \"split\": latest_version.tags.get(\"dataset_split\", \"Unknown\"),\n",
    "            \"format\": latest_version.tags.get(\"dataset_format\", \"Unknown\")\n",
    "        },\n",
    "        \"createdAt\": latest_version.tags.get(\"createdAt\", \"Unknown\"),  # Chuyển đổi timestamp thành chuỗi\n",
    "        \"updatedAt\": latest_version.tags.get(\"updatedAt\", \"Unknown\"),\n",
    "        \"deployedAt\": latest_version.tags.get(\"deployedAt\", \"Unknown\"),\n",
    "        \"author\": latest_version.tags.get(\"author\", \"4INLAB\"),\n",
    "        \"task\": latest_version.tags.get(\"task\", \"Stock Prediction\"),\n",
    "        \"thumbnail\": latest_version.tags.get(\"thumbnail\", \"/model-thumbnails/default.png\"),\n",
    "        \"servingStatus\": {\n",
    "            \"isDeployed\": latest_version.status == \"deployed\",\n",
    "            \"health\": \"healthy\",  # Placeholder; You can replace with actual health check logic\n",
    "            \"requirements\": {\n",
    "                \"cpu\": \"fulfilled\",\n",
    "                \"memory\": \"fulfilled\",\n",
    "                \"gpu\": \"warning\"\n",
    "            },\n",
    "            \"latency\": \"45ms\",\n",
    "            \"throughput\": \"120 requests/sec\",\n",
    "            \"uptime\": \"99.9%\"\n",
    "        },\n",
    "        \"metrics\": {\n",
    "            \"accuracy\": float(latest_version.tags.get('accuracy', 0.0)) if latest_version.tags.get('accuracy') else 0.0,\n",
    "            \"precision\": float(latest_version.tags.get('precision', 0.0)) if latest_version.tags.get('precision') else 0.0,\n",
    "            \"recall\": float(latest_version.tags.get('recall', 0.0)) if latest_version.tags.get('recall') else 0.0,\n",
    "            \"f1Score\": float(latest_version.tags.get('f1Score', 0.0)) if latest_version.tags.get('f1Score') else 0.0,\n",
    "            \"auc\": float(latest_version.tags.get('auc', 0.0)) if latest_version.tags.get('auc') else 0.0,\n",
    "            \"latency\": 45,\n",
    "            \"throughput\": 120\n",
    "        },\n",
    "        \"previousMetrics\": {\n",
    "            \"accuracy\": float(latest_version.tags.get(\"previousAccuracy\", 0.0)),\n",
    "            \"precision\": float(latest_version.tags.get(\"previousPrecision\", 0.0)),\n",
    "            \"recall\": float(latest_version.tags.get(\"previousRecall\", 0.0)),\n",
    "            \"f1Score\": float(latest_version.tags.get(\"previousF1Score\", 0.0)),\n",
    "            \"auc\": float(latest_version.tags.get(\"previousAuc\", 0.0)),\n",
    "            \"latency\": 50,\n",
    "            \"throughput\": 100\n",
    "        },\n",
    "        \"versions\": []\n",
    "    }\n",
    "    # Now fetch all versions of the model\n",
    "    for version in model.latest_versions:\n",
    "        version_info = {\n",
    "            \"version\": version.version+\".0\",\n",
    "            \"status\": version.status,\n",
    "            \"createdAt\": version.tags.get(\"createdAt\", \"Unknown\"),  # Chuyển đổi timestamp thành chuỗi\n",
    "            \"metrics\": {\n",
    "                \"accuracy\": float(version.tags.get('accuracy', 0.0)),\n",
    "                \"precision\": float(version.tags.get('precision', 0.0)),\n",
    "                \"recall\": float(version.tags.get('recall', 0.0)),\n",
    "                \"f1Score\": float(version.tags.get('f1Score', 0.0)),\n",
    "                \"auc\": float(version.tags.get('auc', 0.0)),\n",
    "                \"latency\": 45,\n",
    "                \"throughput\": 120\n",
    "            },\n",
    "            \"trainingHistory\": [\n",
    "                {\"epoch\": 1, \"trainAccuracy\": 0.85, \"trainLoss\": 0.42, \"valAccuracy\": 0.84, \"valLoss\": 0.43},\n",
    "                {\"epoch\": 2, \"trainAccuracy\": 0.89, \"trainLoss\": 0.35, \"valAccuracy\": 0.88, \"valLoss\": 0.36},\n",
    "                # Add more training history as needed...\n",
    "            ]\n",
    "        }\n",
    "        model_info[\"versions\"].append(version_info)  # Add version info to the list of versions\n",
    "\n",
    "    models.append(model_info)  # Add the model info to the models list\n",
    "    return models  # Returning the list of model details\n",
    "get_model_details(\"LSTM\")"
   ]
  },
  {
   "cell_type": "code",
   "execution_count": 165,
   "id": "01766345-3d26-4b1f-9c4d-2a4231896774",
   "metadata": {},
   "outputs": [
    {
     "data": {
      "text/plain": [
       "'fddjfhdj'"
      ]
     },
     "execution_count": 165,
     "metadata": {},
     "output_type": "execute_result"
    }
   ],
   "source": [
    "tags_exp = {\n",
    "            \"model_type\": \"fddjfhdj\",\n",
    "            \"framework\": \"TensorFlow\",\n",
    "            \"status\": \"deployed\",\n",
    "        }\n",
    "tags_exp[\"model_type\"]"
   ]
  },
  {
   "cell_type": "code",
   "execution_count": 169,
   "id": "641e087a-d4d7-441a-b70f-d3e37cf2c86d",
   "metadata": {},
   "outputs": [
    {
     "data": {
      "text/plain": [
       "[<RegisteredModel: aliases={}, creation_timestamp=1740033544106, description='', last_updated_timestamp=1740035083892, latest_versions=[<ModelVersion: aliases=[], creation_timestamp=1740033544130, current_stage='None', description='', last_updated_timestamp=1740033544130, name='LSTM', run_id='10a441676908402aa1ac895e4c406af1', run_link='', source='file:///storage/mlruns/15/10a441676908402aa1ac895e4c406af1/artifacts/stock_prediction', status='READY', status_message='', tags={}, user_id='', version='1'>,\n",
       "  <ModelVersion: aliases=[], creation_timestamp=1740035083874, current_stage='Archived', description=('Version 3 of LSTM model based time-series stock prediction. Trained with '\n",
       "  'dataset: DefaultDataset, epochs: 10, learning rate: 0.001.'), last_updated_timestamp=1740035083892, name='LSTM', run_id='9ef47c05a2634639842edb23473db69d', run_link='', source='runs:/9ef47c05a2634639842edb23473db69d/stock_prediction', status='READY', status_message='', tags={'accuracy': '-5871.0',\n",
       "  'createdAt': '2025-02-20',\n",
       "  'dataset': 'Stock_product_01',\n",
       "  'epochs': '10',\n",
       "  'final_loss': '0.0017844001995399594',\n",
       "  'framework': 'TensorFlow',\n",
       "  'learning_rate': '0.001',\n",
       "  'model_name': 'stock_prediction',\n",
       "  'model_type': 'LSTM',\n",
       "  'status': 'Deployed',\n",
       "  'training_time': '2h 15m',\n",
       "  'updatedAt': '2025-02-20'}, user_id='', version='3'>], name='LSTM', tags={'description': 'Using LSTM for Time-series stock prediction task.'}>]"
      ]
     },
     "execution_count": 169,
     "metadata": {},
     "output_type": "execute_result"
    }
   ],
   "source": [
    "filter_string = f\"name='LSTM'\"\n",
    "client.search_registered_models(filter_string=filter_string)\n"
   ]
  },
  {
   "cell_type": "code",
   "execution_count": 217,
   "id": "bebd7f56-ed5b-4a9a-a4cf-0f67fe9bb1a0",
   "metadata": {
    "scrolled": true
   },
   "outputs": [
    {
     "name": "stdout",
     "output_type": "stream",
     "text": [
      "4a90c6119505497286cb6a23ab0b904c\n",
      "5230734875e2463abe6fde710bb1910b\n"
     ]
    },
    {
     "data": {
      "text/plain": [
       "[<Metric: key='train_mape', step=0, timestamp=1740035663535, value=32.97281158896096>,\n",
       " <Metric: key='train_mape', step=2, timestamp=1740035664122, value=32.97281158896096>,\n",
       " <Metric: key='train_mape', step=6, timestamp=1740035665340, value=32.97281158896096>,\n",
       " <Metric: key='train_mape', step=7, timestamp=1740035665645, value=32.97281158896096>,\n",
       " <Metric: key='train_mape', step=5, timestamp=1740035665007, value=32.97281158896096>,\n",
       " <Metric: key='train_mape', step=1, timestamp=1740035663840, value=32.97281158896096>,\n",
       " <Metric: key='train_mape', step=3, timestamp=1740035664411, value=32.97281158896096>,\n",
       " <Metric: key='train_mape', step=4, timestamp=1740035664691, value=32.97281158896096>,\n",
       " <Metric: key='train_mape', step=8, timestamp=1740035665975, value=32.97281158896096>,\n",
       " <Metric: key='train_mape', step=9, timestamp=1740035666297, value=32.97281158896096>]"
      ]
     },
     "execution_count": 217,
     "metadata": {},
     "output_type": "execute_result"
    }
   ],
   "source": [
    "from mlflow.tracking import MlflowClient\n",
    "from pydantic import BaseModel\n",
    "from typing import List, Dict\n",
    "import json\n",
    "client = MlflowClient()\n",
    "models = []\n",
    "\n",
    "# Search for the registered model by its name (model_id in this case)\n",
    "filter_string = f\"name='{model_name}'\"\n",
    "registered_models = client.search_registered_models(filter_string=filter_string)\n",
    "\n",
    "if not registered_models:\n",
    "    raise ValueError(f\"Model with id '{model_name}' not found in MLflow\")\n",
    "\n",
    "model = registered_models[0]  # Get the first registered model\n",
    "\n",
    "# Get the latest version of the model\n",
    "latest_version = model.latest_versions\n",
    "latest_version  = sorted(latest_version, key=lambda v: tuple(map(int, v.version.split('.'))))\n",
    "latest_version =latest_version [-1]\n",
    "metric_keys = ['train_mape', 'train_loss', 'val_mape', 'val_loss']\n",
    "for version in model.latest_versions:\n",
    "        \n",
    "    # Lấy lịch sử metric cho từng key\n",
    "    metric_history = {}\n",
    "    for metric_key in metric_keys:\n",
    "        metric_history[metric_key] = client.get_metric_history(version.run_id, metric_key)\n",
    "\n",
    "    # Xử lý dữ liệu thành dạng hợp lệ cho trainingHistory\n",
    "    training_history = []\n",
    "    epochs = len(metric_history['train_mape'])  # Giả sử các metrics có số lượng epoch giống nhau\n",
    "    print(version.run_id)\n",
    "client.get_metric_history('4a90c6119505497286cb6a23ab0b904c', 'train_mape')"
   ]
  },
  {
   "cell_type": "code",
   "execution_count": 255,
   "id": "cb699225-0410-46ac-9e2f-c16ee2d03575",
   "metadata": {},
   "outputs": [
    {
     "data": {
      "text/plain": [
       "[<ModelVersion: aliases=[], creation_timestamp=1740100825310, current_stage='None', description='', last_updated_timestamp=1740100825310, name='BiLSTM', run_id='43554baf012146d38fa6513daacfcc72', run_link='', source='file:///storage/mlruns/15/43554baf012146d38fa6513daacfcc72/artifacts/stock_prediction', status='READY', status_message='', tags={}, user_id='', version='1'>,\n",
       " <ModelVersion: aliases=[], creation_timestamp=1740100825327, current_stage='Archived', description=('Version 2 of BiLSTM model based time-series stock prediction. Trained with '\n",
       "  'dataset: DefaultDataset, epochs: 10, learning rate: 0.001.'), last_updated_timestamp=1740100825341, name='BiLSTM', run_id='43554baf012146d38fa6513daacfcc72', run_link='', source='runs:/43554baf012146d38fa6513daacfcc72/stock_prediction', status='READY', status_message='', tags={'accuracy': '-3880.6',\n",
       "  'createdAt': '2025-02-21',\n",
       "  'dataset': 'Stock_product_01',\n",
       "  'epochs': '10',\n",
       "  'final_loss': '0.001809156616218388',\n",
       "  'framework': 'TensorFlow',\n",
       "  'learning_rate': '0.001',\n",
       "  'model_name': 'stock_prediction',\n",
       "  'model_type': 'BiLSTM',\n",
       "  'status': 'Deployed',\n",
       "  'training_time': '0h 0m 13s',\n",
       "  'updatedAt': '2025-02-21'}, user_id='', version='2'>,\n",
       " <ModelVersion: aliases=[], creation_timestamp=1740103044382, current_stage='Archived', description=('Version 3 of BiLSTM model based time-series stock prediction. Trained with '\n",
       "  'dataset: Stock_product_01, epochs: 10, learning rate: 0.001.'), last_updated_timestamp=1740103044401, name='BiLSTM', run_id='2bb0a85504d6400e859fc366eb321693', run_link='', source='runs:/2bb0a85504d6400e859fc366eb321693/stock_prediction', status='READY', status_message='', tags={'accuracy': '-11933.8',\n",
       "  'createdAt': '2025-02-21',\n",
       "  'dataset': 'Stock_product_01',\n",
       "  'epochs': '10',\n",
       "  'final_loss': '0.00472949119284749',\n",
       "  'framework': 'TensorFlow',\n",
       "  'learning_rate': '0.001',\n",
       "  'model_name': 'stock_prediction',\n",
       "  'model_type': 'BiLSTM',\n",
       "  'status': 'Deployed',\n",
       "  'training_time': '0h 0m 5s',\n",
       "  'updatedAt': '2025-02-21'}, user_id='', version='3'>]"
      ]
     },
     "execution_count": 255,
     "metadata": {},
     "output_type": "execute_result"
    }
   ],
   "source": [
    "from mlflow.tracking import MlflowClient\n",
    "from pydantic import BaseModel\n",
    "from typing import List, Dict\n",
    "import json\n",
    "client = MlflowClient()\n",
    "models = []\n",
    "\n",
    "\n",
    "client = MlflowClient()\n",
    "models = []\n",
    "model_name=\"BiLSTM\"\n",
    "# Search for the registered model by its name (model_id in this case)\n",
    "filter_string = f\"name='{model_name}'\"\n",
    "registered_models = client.search_registered_models(filter_string=filter_string)\n",
    "\n",
    "if not registered_models:\n",
    "    raise ValueError(f\"Model with id '{model_name}' not found in MLflow\")\n",
    "\n",
    "model = registered_models[0]  # Get the first registered model\n",
    "\n",
    "# Get the latest version of the model\n",
    "versions = client.search_model_versions(f\"name='{model_name}'\")\n",
    "versions  = sorted(versions, key=lambda v: tuple(map(int, v.version.split('.'))))\n",
    "versions"
   ]
  },
  {
   "cell_type": "code",
   "execution_count": 257,
   "id": "974f7c07-43f7-49b4-8591-f14344bd99dd",
   "metadata": {},
   "outputs": [
    {
     "data": {
      "text/plain": [
       "['Stock_product_02', 'Stock_product_01', 'Stock_product_03']"
      ]
     },
     "execution_count": 257,
     "metadata": {},
     "output_type": "execute_result"
    }
   ],
   "source": [
    "import os\n",
    "DVC_DATA_STORGE = os.getenv(\"DVC_DATA_STORGE\", \"/home/ariya/central_storage/datasets/\")\n",
    "\n",
    "datasets = [d for d in os.listdir(DVC_DATA_STORGE) if os.path.isdir(os.path.join(DVC_DATA_STORGE, d))]\n",
    "datasets"
   ]
  },
  {
   "cell_type": "code",
   "execution_count": null,
   "id": "6a99a43a-c288-4d9b-b18f-51b567b9ddc8",
   "metadata": {},
   "outputs": [],
   "source": []
  }
 ],
 "metadata": {
  "kernelspec": {
   "display_name": "computer-viz-dl",
   "language": "python",
   "name": "computer-viz-dl"
  },
  "language_info": {
   "codemirror_mode": {
    "name": "ipython",
    "version": 3
   },
   "file_extension": ".py",
   "mimetype": "text/x-python",
   "name": "python",
   "nbconvert_exporter": "python",
   "pygments_lexer": "ipython3",
   "version": "3.9.21"
  }
 },
 "nbformat": 4,
 "nbformat_minor": 5
}
