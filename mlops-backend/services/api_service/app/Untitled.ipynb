{
 "cells": [
  {
   "cell_type": "code",
   "execution_count": 1,
   "id": "5a02d39a-61a0-4585-9b00-8d612bf26c70",
   "metadata": {},
   "outputs": [],
   "source": [
    "import os\n",
    "\n",
    "for root, dirs, files in os.walk(\".\", topdown=False):\n",
    "    for name in dirs:\n",
    "        if name == \"__pycache__\":\n",
    "            old_path = os.path.join(root, name)\n",
    "            try:\n",
    "                # Rename instead of delete\n",
    "                os.rename(old_path, old_path + \"_disabled\")\n",
    "                print(f\"Renamed {old_path} to {old_path + '_disabled'}\")\n",
    "            except Exception as e:\n",
    "                print(f\"⚠️ Could not rename {old_path}: {e}\")\n"
   ]
  },
  {
   "cell_type": "code",
   "execution_count": null,
   "id": "2cc82b80-d9e6-422c-bd8a-86dbafc7dfb7",
   "metadata": {},
   "outputs": [],
   "source": []
  }
 ],
 "metadata": {
  "kernelspec": {
   "display_name": "mlops-4inlab",
   "language": "python",
   "name": "mlops-4inlab"
  },
  "language_info": {
   "codemirror_mode": {
    "name": "ipython",
    "version": 3
   },
   "file_extension": ".py",
   "mimetype": "text/x-python",
   "name": "python",
   "nbconvert_exporter": "python",
   "pygments_lexer": "ipython3",
   "version": "3.9.21"
  }
 },
 "nbformat": 4,
 "nbformat_minor": 5
}
